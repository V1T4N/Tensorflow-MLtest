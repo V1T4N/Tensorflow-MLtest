{
 "cells": [
  {
   "cell_type": "markdown",
   "metadata": {},
   "source": [
    "# 第4章　ニューラルネットワークとKeras"
   ]
  },
  {
   "cell_type": "markdown",
   "metadata": {},
   "source": [
    "** リスト4.1:データのインポート **"
   ]
  },
  {
   "cell_type": "code",
   "execution_count": 15,
   "metadata": {},
   "outputs": [],
   "source": [
    "from tensorflow.python.keras.datasets import mnist\n",
    "\n",
    "\n",
    "(x_train, y_train), (x_test, y_test) = mnist.load_data()"
   ]
  },
  {
   "cell_type": "markdown",
   "metadata": {},
   "source": [
    "** リスト4.2:インポートしたデータの形 **"
   ]
  },
  {
   "cell_type": "code",
   "execution_count": 16,
   "metadata": {},
   "outputs": [
    {
     "name": "stdout",
     "output_type": "stream",
     "text": [
      "x_train.shape: (60000, 28, 28)\n",
      "x_test.shape: (10000, 28, 28)\n",
      "y_train.shape: (60000,)\n",
      "y_test.shape: (10000,)\n"
     ]
    }
   ],
   "source": [
    "# インポートしたデータの形を確認\n",
    "print('x_train.shape:', x_train.shape)\n",
    "print('x_test.shape:', x_test.shape)\n",
    "print('y_train.shape:', y_train.shape)\n",
    "print('y_test.shape:', y_test.shape)"
   ]
  },
  {
   "cell_type": "markdown",
   "metadata": {},
   "source": [
    "** リスト4.3:インポートしたデータ（特徴量）をネットワークに対応するように変形する **"
   ]
  },
  {
   "cell_type": "code",
   "execution_count": 17,
   "metadata": {},
   "outputs": [],
   "source": [
    "x_train = x_train.reshape(60000, 784)\n",
    "x_train = x_train/255.\n",
    "x_test = x_test.reshape(10000, 784)\n",
    "x_test = x_test/255."
   ]
  },
  {
   "cell_type": "markdown",
   "metadata": {},
   "source": [
    "** リスト4.4:インポートしたデータ（クラスラベル）をネットワークに対応するように変形する **"
   ]
  },
  {
   "cell_type": "code",
   "execution_count": 18,
   "metadata": {},
   "outputs": [],
   "source": [
    "from tensorflow.python.keras.utils import to_categorical\n",
    "\n",
    "\n",
    "y_train = to_categorical(y_train, 10)\n",
    "y_test = to_categorical(y_test, 10)"
   ]
  },
  {
   "cell_type": "markdown",
   "metadata": {},
   "source": [
    "** リスト4.5:モデル構築の準備 **"
   ]
  },
  {
   "cell_type": "code",
   "execution_count": 19,
   "metadata": {},
   "outputs": [],
   "source": [
    "from tensorflow.python.keras.models import Sequential\n",
    "\n",
    "\n",
    "model = Sequential()"
   ]
  },
  {
   "cell_type": "markdown",
   "metadata": {},
   "source": [
    "** リスト4.6:中間層の追加 **"
   ]
  },
  {
   "cell_type": "code",
   "execution_count": 20,
   "metadata": {},
   "outputs": [],
   "source": [
    "from tensorflow.python.keras.layers import Dense\n",
    "\n",
    "\n",
    "model.add(\n",
    "    Dense(\n",
    "        units=64, \n",
    "        input_shape=(784,),\n",
    "        activation='relu'\n",
    "    )\n",
    ")"
   ]
  },
  {
   "cell_type": "markdown",
   "metadata": {},
   "source": [
    "** リスト4.7:出力層の追加 **"
   ]
  },
  {
   "cell_type": "code",
   "execution_count": 21,
   "metadata": {},
   "outputs": [],
   "source": [
    "model.add(\n",
    "    Dense(\n",
    "        units=10, \n",
    "        activation='softmax'\n",
    "    )\n",
    ")"
   ]
  },
  {
   "cell_type": "markdown",
   "metadata": {},
   "source": [
    "** リスト4.8:Adamを用いた、本モデルでのMNISTデータの学習**"
   ]
  },
  {
   "cell_type": "code",
   "execution_count": 22,
   "metadata": {},
   "outputs": [
    {
     "name": "stdout",
     "output_type": "stream",
     "text": [
      "Train on 48000 samples, validate on 12000 samples\n",
      "Epoch 1/20\n",
      "48000/48000 [==============================]48000/48000 [==============================] - 4s 78us/step - loss: 0.3356 - acc: 0.9044 - val_loss: 0.1974 - val_acc: 0.9446\n",
      "\n",
      "Epoch 2/20\n",
      "48000/48000 [==============================]48000/48000 [==============================] - 3s 72us/step - loss: 0.1656 - acc: 0.9514 - val_loss: 0.1391 - val_acc: 0.9598\n",
      "\n",
      "Epoch 3/20\n",
      "48000/48000 [==============================]48000/48000 [==============================] - 3s 62us/step - loss: 0.1194 - acc: 0.9650 - val_loss: 0.1311 - val_acc: 0.9621\n",
      "\n",
      "Epoch 4/20\n",
      "48000/48000 [==============================]48000/48000 [==============================] - 4s 79us/step - loss: 0.0934 - acc: 0.9725 - val_loss: 0.1125 - val_acc: 0.9658\n",
      "\n",
      "Epoch 5/20\n",
      "48000/48000 [==============================]48000/48000 [==============================] - 3s 67us/step - loss: 0.0774 - acc: 0.9762 - val_loss: 0.1028 - val_acc: 0.9691\n",
      "\n",
      "Epoch 6/20\n",
      "48000/48000 [==============================]48000/48000 [==============================] - 3s 67us/step - loss: 0.0629 - acc: 0.9806 - val_loss: 0.1149 - val_acc: 0.9673\n",
      "\n",
      "Epoch 7/20\n",
      "48000/48000 [==============================]48000/48000 [==============================] - 3s 68us/step - loss: 0.0539 - acc: 0.9836 - val_loss: 0.1052 - val_acc: 0.9687\n",
      "\n",
      "Epoch 8/20\n",
      "48000/48000 [==============================]48000/48000 [==============================] - 4s 75us/step - loss: 0.0452 - acc: 0.9857 - val_loss: 0.1004 - val_acc: 0.9702\n",
      "\n",
      "Epoch 9/20\n",
      "48000/48000 [==============================]48000/48000 [==============================] - 4s 77us/step - loss: 0.0382 - acc: 0.9886 - val_loss: 0.0995 - val_acc: 0.9714\n",
      "\n",
      "Epoch 10/20\n",
      "48000/48000 [==============================]48000/48000 [==============================] - 4s 79us/step - loss: 0.0327 - acc: 0.9898 - val_loss: 0.1036 - val_acc: 0.9720\n",
      "\n",
      "Epoch 11/20\n",
      "48000/48000 [==============================]48000/48000 [==============================] - 4s 75us/step - loss: 0.0284 - acc: 0.9916 - val_loss: 0.1039 - val_acc: 0.9710\n",
      "\n",
      "Epoch 12/20\n",
      "48000/48000 [==============================]48000/48000 [==============================] - 3s 68us/step - loss: 0.0231 - acc: 0.9934 - val_loss: 0.1140 - val_acc: 0.9675\n",
      "\n",
      "Epoch 13/20\n",
      "48000/48000 [==============================]48000/48000 [==============================] - 3s 71us/step - loss: 0.0209 - acc: 0.9941 - val_loss: 0.1148 - val_acc: 0.9696\n",
      "\n",
      "Epoch 14/20\n",
      "48000/48000 [==============================]48000/48000 [==============================] - 3s 72us/step - loss: 0.0186 - acc: 0.9945 - val_loss: 0.1009 - val_acc: 0.9738\n",
      "\n",
      "Epoch 15/20\n",
      "48000/48000 [==============================]48000/48000 [==============================] - 3s 68us/step - loss: 0.0170 - acc: 0.9951 - val_loss: 0.1082 - val_acc: 0.9729\n",
      "\n",
      "Epoch 16/20\n",
      "48000/48000 [==============================]48000/48000 [==============================] - 3s 68us/step - loss: 0.0144 - acc: 0.9956 - val_loss: 0.1154 - val_acc: 0.9708\n",
      "\n",
      "Epoch 17/20\n",
      "48000/48000 [==============================]48000/48000 [==============================] - 3s 69us/step - loss: 0.0124 - acc: 0.9966 - val_loss: 0.1179 - val_acc: 0.9698\n",
      "\n",
      "Epoch 18/20\n",
      "48000/48000 [==============================]48000/48000 [==============================] - 3s 66us/step - loss: 0.0100 - acc: 0.9976 - val_loss: 0.1203 - val_acc: 0.9727\n",
      "\n",
      "Epoch 19/20\n",
      "48000/48000 [==============================]48000/48000 [==============================] - 4s 75us/step - loss: 0.0105 - acc: 0.9971 - val_loss: 0.1236 - val_acc: 0.9708\n",
      "\n",
      "Epoch 20/20\n",
      "48000/48000 [==============================]48000/48000 [==============================] - 3s 72us/step - loss: 0.0086 - acc: 0.9978 - val_loss: 0.1319 - val_acc: 0.9697] - ETA: 0s - loss: 0.0076 - \n",
      "\n"
     ]
    }
   ],
   "source": [
    "from tensorflow.python.keras.callbacks import TensorBoard\n",
    "\n",
    "\n",
    "model.compile(\n",
    "    optimizer='adam',\n",
    "    loss='categorical_crossentropy',\n",
    "    metrics=['accuracy']\n",
    ")\n",
    "tsb = TensorBoard(log_dir='./logs')\n",
    "history_adam = model.fit(\n",
    "    x_train,\n",
    "    y_train,\n",
    "    batch_size=32,\n",
    "    epochs=20,\n",
    "    validation_split=0.2,\n",
    "    callbacks=[tsb]\n",
    ")"
   ]
  },
  {
   "cell_type": "code",
   "execution_count": 64,
   "metadata": {},
   "outputs": [
    {
     "name": "stdout",
     "output_type": "stream",
     "text": [
      "[2 1 0 4 1 4 9 5 9]\n",
      "[2 1 0 4 1 4 9 5 9]\n"
     ]
    }
   ],
   "source": [
    "import numpy as np\n",
    "#print(x_test[1,:])\n",
    "print(model.predict_classes(x_test[1:10,:]))\n",
    "print(np.argmax(y_test[1:10],1))"
   ]
  },
  {
   "cell_type": "markdown",
   "metadata": {},
   "source": [
    "** リスト4.9:Functional APIを用いたモデル構築のための準備**"
   ]
  },
  {
   "cell_type": "code",
   "execution_count": 10,
   "metadata": {},
   "outputs": [],
   "source": [
    "from tensorflow.python.keras.datasets import mnist\n",
    "from tensorflow.python.keras.utils import to_categorical\n",
    "from tensorflow.python.keras.callbacks import TensorBoard\n",
    "from tensorflow.python.keras.layers import Input, Dense\n",
    "from tensorflow.python.keras.models import Model\n",
    "\n",
    "\n",
    "(x_train, y_train), (x_test, y_test) = mnist.load_data()\n",
    "x_train = x_train.reshape(60000, 784)\n",
    "x_train = x_train/255.\n",
    "x_test = x_test.reshape(10000, 784)\n",
    "x_test = x_test/255.\n",
    "y_train = to_categorical(y_train, 10)\n",
    "y_test = to_categorical(y_test, 10)\n",
    "tsb = TensorBoard(log_dir='./logs')"
   ]
  },
  {
   "cell_type": "markdown",
   "metadata": {},
   "source": [
    "** リスト4.10:Functional APIによるモデルの構築 **"
   ]
  },
  {
   "cell_type": "code",
   "execution_count": 11,
   "metadata": {},
   "outputs": [],
   "source": [
    "input = Input(shape=(784, ))\n",
    "middle = Dense(units=64, activation='relu')(input)\n",
    "output = Dense(units=10, activation='softmax')(middle)\n",
    "model = Model(inputs=[input], outputs=[output])"
   ]
  },
  {
   "cell_type": "markdown",
   "metadata": {},
   "source": [
    "** リスト4.11:構築したモデルのコンパイル例 **"
   ]
  },
  {
   "cell_type": "code",
   "execution_count": 12,
   "metadata": {},
   "outputs": [],
   "source": [
    "model.compile(\n",
    "    optimizer='adam',\n",
    "    loss='categorical_crossentropy',\n",
    "    metrics=['accuracy']\n",
    ")"
   ]
  },
  {
   "cell_type": "markdown",
   "metadata": {},
   "source": [
    "** リスト4.12:MNISTのデータセットを学習する **"
   ]
  },
  {
   "cell_type": "code",
   "execution_count": 13,
   "metadata": {},
   "outputs": [
    {
     "name": "stdout",
     "output_type": "stream",
     "text": [
      "Train on 48000 samples, validate on 12000 samples\n",
      "Epoch 1/20\n",
      "48000/48000 [==============================]48000/48000 [==============================] - 4s 77us/step - loss: 0.3316 - acc: 0.9057 - val_loss: 0.1892 - val_acc: 0.9456\n",
      "\n",
      "Epoch 2/20\n",
      "48000/48000 [==============================]48000/48000 [==============================] - 3s 70us/step - loss: 0.1586 - acc: 0.9540 - val_loss: 0.1411 - val_acc: 0.9597\n",
      "\n",
      "Epoch 3/20\n",
      "48000/48000 [==============================]48000/48000 [==============================] - 4s 74us/step - loss: 0.1137 - acc: 0.9665 - val_loss: 0.1180 - val_acc: 0.9657\n",
      "\n",
      "Epoch 4/20\n",
      "48000/48000 [==============================]48000/48000 [==============================] - 3s 70us/step - loss: 0.0907 - acc: 0.9730 - val_loss: 0.1138 - val_acc: 0.9671\n",
      "\n",
      "Epoch 5/20\n",
      "48000/48000 [==============================]48000/48000 [==============================] - 3s 71us/step - loss: 0.0724 - acc: 0.9795 - val_loss: 0.1042 - val_acc: 0.9705\n",
      "\n",
      "Epoch 6/20\n",
      "48000/48000 [==============================]48000/48000 [==============================] - 3s 63us/step - loss: 0.0599 - acc: 0.9820 - val_loss: 0.1032 - val_acc: 0.9698\n",
      "\n",
      "Epoch 7/20\n",
      "48000/48000 [==============================]48000/48000 [==============================] - 3s 65us/step - loss: 0.0509 - acc: 0.9848 - val_loss: 0.0946 - val_acc: 0.9728] - ETA: 0s - loss: 0.0\n",
      "\n",
      "Epoch 8/20\n",
      "48000/48000 [==============================]48000/48000 [==============================] - 4s 74us/step - loss: 0.0429 - acc: 0.9873 - val_loss: 0.0987 - val_acc: 0.9738\n",
      "\n",
      "Epoch 9/20\n",
      "48000/48000 [==============================]48000/48000 [==============================] - 3s 70us/step - loss: 0.0373 - acc: 0.9889 - val_loss: 0.1001 - val_acc: 0.9718] - ETA: 0s - loss: 0\n",
      "\n",
      "Epoch 10/20\n",
      "48000/48000 [==============================]48000/48000 [==============================] - 3s 64us/step - loss: 0.0301 - acc: 0.9912 - val_loss: 0.1057 - val_acc: 0.9703\n",
      "\n",
      "Epoch 11/20\n",
      "48000/48000 [==============================]48000/48000 [==============================] - 3s 70us/step - loss: 0.0272 - acc: 0.9920 - val_loss: 0.1047 - val_acc: 0.9716\n",
      "\n",
      "Epoch 12/20\n",
      "48000/48000 [==============================]48000/48000 [==============================] - 3s 68us/step - loss: 0.0235 - acc: 0.9934 - val_loss: 0.1096 - val_acc: 0.9717\n",
      "\n",
      "Epoch 13/20\n",
      "48000/48000 [==============================]48000/48000 [==============================] - 3s 65us/step - loss: 0.0202 - acc: 0.9943 - val_loss: 0.1082 - val_acc: 0.9732\n",
      "\n",
      "Epoch 14/20\n",
      "48000/48000 [==============================]48000/48000 [==============================] - 3s 65us/step - loss: 0.0189 - acc: 0.9944 - val_loss: 0.1052 - val_acc: 0.9744\n",
      "\n",
      "Epoch 15/20\n",
      "48000/48000 [==============================]48000/48000 [==============================] - 3s 61us/step - loss: 0.0145 - acc: 0.9960 - val_loss: 0.1072 - val_acc: 0.9738\n",
      "\n",
      "Epoch 16/20\n",
      "48000/48000 [==============================]48000/48000 [==============================] - 3s 65us/step - loss: 0.0136 - acc: 0.9961 - val_loss: 0.1157 - val_acc: 0.9723] - ETA: 0s - loss: 0.0131 - ac\n",
      "\n",
      "Epoch 17/20\n",
      "48000/48000 [==============================]48000/48000 [==============================] - 4s 75us/step - loss: 0.0128 - acc: 0.9965 - val_loss: 0.1098 - val_acc: 0.9741\n",
      "\n",
      "Epoch 18/20\n",
      "48000/48000 [==============================]48000/48000 [==============================] - 3s 66us/step - loss: 0.0097 - acc: 0.9977 - val_loss: 0.1199 - val_acc: 0.9732\n",
      "\n",
      "Epoch 19/20\n",
      "48000/48000 [==============================]48000/48000 [==============================] - 3s 65us/step - loss: 0.0105 - acc: 0.9970 - val_loss: 0.1205 - val_acc: 0.9739\n",
      "\n",
      "Epoch 20/20\n",
      "48000/48000 [==============================]48000/48000 [==============================] - 3s 69us/step - loss: 0.0083 - acc: 0.9979 - val_loss: 0.1285 - val_acc: 0.9718]\n",
      "\n"
     ]
    },
    {
     "data": {
      "text/plain": [
       "<tensorflow.python.keras._impl.keras.callbacks.History at 0xb3fd55898>"
      ]
     },
     "execution_count": 13,
     "metadata": {},
     "output_type": "execute_result"
    }
   ],
   "source": [
    "model.fit(\n",
    "    x_train,\n",
    "    y_train,\n",
    "    batch_size=32,\n",
    "    epochs=20,\n",
    "    callbacks=[tsb],\n",
    "    validation_split=0.2\n",
    ")"
   ]
  },
  {
   "cell_type": "code",
   "execution_count": null,
   "metadata": {},
   "outputs": [],
   "source": []
  }
 ],
 "metadata": {
  "kernelspec": {
   "display_name": "Python 3",
   "language": "python",
   "name": "python3"
  },
  "language_info": {
   "codemirror_mode": {
    "name": "ipython",
    "version": 3
   },
   "file_extension": ".py",
   "mimetype": "text/x-python",
   "name": "python",
   "nbconvert_exporter": "python",
   "pygments_lexer": "ipython3",
   "version": "3.6.5"
  }
 },
 "nbformat": 4,
 "nbformat_minor": 2
}
