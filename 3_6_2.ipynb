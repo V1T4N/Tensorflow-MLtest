{
 "cells": [
  {
   "cell_type": "code",
   "execution_count": 10,
   "metadata": {},
   "outputs": [
    {
     "name": "stdout",
     "output_type": "stream",
     "text": [
      "x=  0.2\n",
      "y = 0.6399999952316284\n",
      "x=  0.36\n",
      "y = 0.40959998168945333\n",
      "x=  0.48800004\n",
      "y = 0.26214396386718875\n",
      "x=  0.59040004\n",
      "y = 0.1677721271093766\n",
      "x=  0.67232\n",
      "y = 0.10737417697500007\n",
      "x=  0.73785603\n",
      "y = 0.06871946076400093\n",
      "x=  0.7902848\n",
      "y = 0.043980459888960155\n",
      "x=  0.8322278\n",
      "y = 0.028147502328934593\n",
      "x=  0.86578226\n",
      "y = 0.01801440149051814\n",
      "x=  0.8926258\n",
      "y = 0.01152921695393161\n",
      "x=  0.91410065\n",
      "y = 0.00737869885051623\n",
      "x=  0.9312805\n",
      "y = 0.004722370541131227\n",
      "x=  0.9450244\n",
      "y = 0.00302231976776568\n",
      "x=  0.9560195\n",
      "y = 0.001934282554216793\n",
      "x=  0.9648156\n",
      "y = 0.0012379408346987475\n",
      "x=  0.9718525\n",
      "y = 0.0007922828052961961\n",
      "x=  0.97748196\n",
      "y = 0.0005070620691327576\n",
      "x=  0.98198557\n",
      "y = 0.0003245197242449649\n",
      "x=  0.98558843\n",
      "y = 0.00020769331071335273\n",
      "x=  0.98847073\n",
      "y = 0.0001329239937355453\n"
     ]
    }
   ],
   "source": [
    "import tensorflow as tf\n",
    "\n",
    "x = tf.Variable(0.,name = \"x\")\n",
    "\n",
    "func = (x - 1)**2\n",
    "\n",
    "\n",
    "optimizer = tf.train.GradientDescentOptimizer(learning_rate = 0.1)\n",
    "\n",
    "train_step = optimizer.minimize(func)\n",
    "\n",
    "with tf.Session() as sess:\n",
    "    sess.run(tf.global_variables_initializer())\n",
    "    \n",
    "    for i in range (20):\n",
    "        sess.run(train_step)\n",
    "        \n",
    "        print (\"x= \",sess.run(x))\n",
    "        print(\"y =\",(sess.run(x) -1)**2)"
   ]
  },
  {
   "cell_type": "code",
   "execution_count": null,
   "metadata": {},
   "outputs": [],
   "source": []
  }
 ],
 "metadata": {
  "kernelspec": {
   "display_name": "Python 3",
   "language": "python",
   "name": "python3"
  },
  "language_info": {
   "codemirror_mode": {
    "name": "ipython",
    "version": 3
   },
   "file_extension": ".py",
   "mimetype": "text/x-python",
   "name": "python",
   "nbconvert_exporter": "python",
   "pygments_lexer": "ipython3",
   "version": "3.6.5"
  }
 },
 "nbformat": 4,
 "nbformat_minor": 2
}
