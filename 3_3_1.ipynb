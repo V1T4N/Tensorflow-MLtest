{
 "cells": [
  {
   "cell_type": "code",
   "execution_count": 2,
   "metadata": {},
   "outputs": [
    {
     "name": "stdout",
     "output_type": "stream",
     "text": [
      "a+b = [5 8 9]\n"
     ]
    }
   ],
   "source": [
    "import tensorflow as tf\n",
    "\n",
    "a = tf.constant([1,3,3],name = \"a\")\n",
    "b = tf.constant([4,5,6],name = \"b\")\n",
    "c = a + b\n",
    "\n",
    "with tf.Session() as sess:\n",
    "    print(\"a+b =\",sess.run(c))\n"
   ]
  },
  {
   "cell_type": "code",
   "execution_count": 9,
   "metadata": {},
   "outputs": [
    {
     "name": "stdout",
     "output_type": "stream",
     "text": [
      "a =  [[1 2]]\n",
      "a =  [[1 2]\n",
      " [3 4]]\n"
     ]
    }
   ],
   "source": [
    "import tensorflow as tf\n",
    "\n",
    "a = tf.placeholder(shape = (None,2),dtype = tf.int32,name = \"a\")\n",
    "\n",
    "with tf.Session() as sess:\n",
    "    print(\"a = \",sess.run(a,feed_dict = {a:[[1,2]]}))\n",
    "    print(\"a = \",sess.run(a,feed_dict = {a:[[1,2],[3,4]]}))\n",
    "    "
   ]
  },
  {
   "cell_type": "code",
   "execution_count": null,
   "metadata": {},
   "outputs": [],
   "source": []
  }
 ],
 "metadata": {
  "kernelspec": {
   "display_name": "Python 3",
   "language": "python",
   "name": "python3"
  },
  "language_info": {
   "codemirror_mode": {
    "name": "ipython",
    "version": 3
   },
   "file_extension": ".py",
   "mimetype": "text/x-python",
   "name": "python",
   "nbconvert_exporter": "python",
   "pygments_lexer": "ipython3",
   "version": "3.6.5"
  }
 },
 "nbformat": 4,
 "nbformat_minor": 2
}
